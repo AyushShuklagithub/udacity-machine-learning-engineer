{
 "cells": [
  {
   "cell_type": "markdown",
   "metadata": {},
   "source": [
    "# Create Train & Test set for cross validation (k = 5 with Shuffle)"
   ]
  },
  {
   "cell_type": "code",
   "execution_count": 1,
   "metadata": {},
   "outputs": [
    {
     "name": "stdout",
     "output_type": "stream",
     "text": [
      "Train set 1\n",
      "0,1,3,4,5,6,7,8,9,10,11,12,13,14,15,16,17,19,20,21,22,23,25,26,28,29,30,32,33,34,35,36,37,40,41,43,45,47,48,49,50,51,53,54,56,57,59,60,61,62,63,64,65,66,67,68,69,70,71,72,73,74,76,77,78,79,80,81,82,83,84,85,87,89,90,91,94,96,98,99\n",
      "\n",
      "Test set 1\n",
      "2,18,24,27,31,38,39,42,44,46,52,55,58,75,86,88,92,93,95,97\n",
      "\n",
      "\n",
      "Train set 2\n",
      "0,1,2,3,4,6,7,8,10,11,12,13,15,18,19,20,21,22,24,27,28,29,30,31,32,33,34,35,36,37,38,39,40,41,42,43,44,45,46,47,49,50,51,52,53,54,55,56,57,58,59,60,61,62,63,64,67,68,72,74,75,77,79,80,82,83,84,85,86,87,88,89,92,93,94,95,96,97,98,99\n",
      "\n",
      "Test set 2\n",
      "5,9,14,16,17,23,25,26,48,65,66,69,70,71,73,76,78,81,90,91\n",
      "\n",
      "\n",
      "Train set 3\n",
      "0,1,2,4,5,6,7,8,9,10,11,12,13,14,15,16,17,18,19,23,24,25,26,27,28,31,35,36,37,38,39,40,41,42,44,45,46,48,50,51,52,53,54,55,56,58,59,61,62,63,64,65,66,67,69,70,71,73,74,75,76,77,78,79,80,81,82,83,84,86,87,88,90,91,92,93,95,97,98,99\n",
      "\n",
      "Test set 3\n",
      "3,20,21,22,29,30,32,33,34,43,47,49,57,60,68,72,85,89,94,96\n",
      "\n",
      "\n",
      "Train set 4\n",
      "2,3,4,5,6,7,8,9,13,14,15,16,17,18,20,21,22,23,24,25,26,27,28,29,30,31,32,33,34,37,38,39,40,42,43,44,45,46,47,48,49,52,55,57,58,59,60,63,64,65,66,67,68,69,70,71,72,73,74,75,76,78,79,81,84,85,86,87,88,89,90,91,92,93,94,95,96,97,98,99\n",
      "\n",
      "Test set 4\n",
      "0,1,10,11,12,19,35,36,41,50,51,53,54,56,61,62,77,80,82,83\n",
      "\n",
      "\n",
      "Train set 5\n",
      "0,1,2,3,5,9,10,11,12,14,16,17,18,19,20,21,22,23,24,25,26,27,29,30,31,32,33,34,35,36,38,39,41,42,43,44,46,47,48,49,50,51,52,53,54,55,56,57,58,60,61,62,65,66,68,69,70,71,72,73,75,76,77,78,80,81,82,83,85,86,88,89,90,91,92,93,94,95,96,97\n",
      "\n",
      "Test set 5\n",
      "4,6,7,8,13,15,28,37,40,45,59,63,64,67,74,79,84,87,98,99\n",
      "\n",
      "\n"
     ]
    }
   ],
   "source": [
    "from sklearn.model_selection import KFold\n",
    "import pandas as pd\n",
    "import numpy as np\n",
    "\n",
    "# Read the data\n",
    "data = pd.read_csv('data/nested_circles.csv')\n",
    "\n",
    "# Split the data into X and y\n",
    "X = np.array(data[['x1', 'x2']])\n",
    "y = np.array(data['y'])\n",
    "\n",
    "# Create k fold\n",
    "kf = KFold(n_splits=5, shuffle=True)\n",
    " \n",
    "# Print splitted train-test sets\n",
    "count = 1\n",
    "for train_index, test_index in kf.split(X):\n",
    "    print('Train set', count)\n",
    "    print(','.join([str(i) for i in train_index]))\n",
    "    print()\n",
    "    print('Test set', count)\n",
    "    print(','.join([str(i) for i in test_index]))\n",
    "    print()\n",
    "    print()\n",
    "    count = count  + 1"
   ]
  }
 ],
 "metadata": {
  "kernelspec": {
   "display_name": "Python 3",
   "language": "python",
   "name": "python3"
  },
  "language_info": {
   "codemirror_mode": {
    "name": "ipython",
    "version": 3
   },
   "file_extension": ".py",
   "mimetype": "text/x-python",
   "name": "python",
   "nbconvert_exporter": "python",
   "pygments_lexer": "ipython3",
   "version": "3.6.1"
  }
 },
 "nbformat": 4,
 "nbformat_minor": 2
}
