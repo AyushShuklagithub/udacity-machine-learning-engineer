{
 "cells": [
  {
   "cell_type": "markdown",
   "metadata": {},
   "source": [
    "# Load email contents and author label data\n",
    "Chris has label 1 and Sara has label 0. The objective is to find out the author provided email content."
   ]
  },
  {
   "cell_type": "code",
   "execution_count": 1,
   "metadata": {},
   "outputs": [
    {
     "name": "stdout",
     "output_type": "stream",
     "text": [
      "Number of emails:  17578\n",
      "Number of labels:  17578\n",
      "Number of Chris training emails:  8801\n",
      "Number of Sara training emails:  8777\n"
     ]
    }
   ],
   "source": [
    "import pickle\n",
    "import numpy as np\n",
    "from collections import Counter\n",
    "\n",
    "with open(\"data/word_data.pkl\", \"rb\") as file:\n",
    "    word_data = pickle.load(file)\n",
    "\n",
    "with open(\"data/email_authors.pkl\", \"rb\") as file:\n",
    "    authors = pickle.load(file)\n",
    "\n",
    "print('Number of emails: ', len(word_data))\n",
    "print('Number of labels: ', len(authors))\n",
    "\n",
    "authors_np = np.array(authors)\n",
    "print(\"Number of Chris training emails: \", (authors_np == 1).sum())\n",
    "print(\"Number of Sara training emails: \", (authors_np == 0).sum())"
   ]
  },
  {
   "cell_type": "markdown",
   "metadata": {},
   "source": [
    "# Split into train-test set"
   ]
  },
  {
   "cell_type": "code",
   "execution_count": 2,
   "metadata": {},
   "outputs": [
    {
     "name": "stdout",
     "output_type": "stream",
     "text": [
      "Number of training feature dataset:  15820\n",
      "Number of training target dataset:  15820\n",
      "Number of testing feature dataset:  1758\n",
      "Number of testing target dataset:  1758\n"
     ]
    }
   ],
   "source": [
    "from sklearn.model_selection import train_test_split\n",
    "\n",
    "X_train, X_test, y_train, y_test = train_test_split(word_data, authors, test_size=0.1, random_state=42)\n",
    "\n",
    "print('Number of training feature dataset: ', len(X_train))\n",
    "print('Number of training target dataset: ', len(y_train))\n",
    "print('Number of testing feature dataset: ', len(X_test))\n",
    "print('Number of testing target dataset: ', len(y_test))"
   ]
  },
  {
   "cell_type": "markdown",
   "metadata": {},
   "source": [
    "# Vectorize into tfidf matrix"
   ]
  },
  {
   "cell_type": "code",
   "execution_count": 3,
   "metadata": {},
   "outputs": [
    {
     "name": "stdout",
     "output_type": "stream",
     "text": [
      "Dimension of transformed training feature matrix:  (15820, 37851)\n",
      "Dimension of transformed testing feature matrix:  (1758, 37851)\n"
     ]
    }
   ],
   "source": [
    "from sklearn.feature_extraction.text import TfidfVectorizer\n",
    "\n",
    "vectorizer = TfidfVectorizer(sublinear_tf=True, max_df=0.5,stop_words='english')\n",
    "X_train_transformed = vectorizer.fit_transform(X_train)\n",
    "X_test_transformed  = vectorizer.transform(X_test)\n",
    "\n",
    "print('Dimension of transformed training feature matrix: ', X_train_transformed.shape)\n",
    "print('Dimension of transformed testing feature matrix: ', X_test_transformed.shape)"
   ]
  },
  {
   "cell_type": "markdown",
   "metadata": {},
   "source": [
    "# Select most helpful features (top 10%)"
   ]
  },
  {
   "cell_type": "code",
   "execution_count": 4,
   "metadata": {},
   "outputs": [
    {
     "name": "stdout",
     "output_type": "stream",
     "text": [
      "Dimension of optimized training feature matrix:  (15820, 3785)\n",
      "Dimension of optimized testing feature matrix:  (1758, 3785)\n"
     ]
    }
   ],
   "source": [
    "from sklearn.feature_selection import SelectPercentile, f_classif\n",
    "\n",
    "selector = SelectPercentile(f_classif, percentile=10)\n",
    "selector.fit(X_train_transformed, y_train)\n",
    "X_train_transformed = selector.transform(X_train_transformed).toarray()\n",
    "X_test_transformed  = selector.transform(X_test_transformed).toarray()\n",
    "\n",
    "print('Dimension of optimized training feature matrix: ', X_train_transformed.shape)\n",
    "print('Dimension of optimized testing feature matrix: ', X_test_transformed.shape)"
   ]
  },
  {
   "cell_type": "markdown",
   "metadata": {},
   "source": [
    "# Update train-test variables, convert them to numpy arrays"
   ]
  },
  {
   "cell_type": "code",
   "execution_count": 5,
   "metadata": {},
   "outputs": [
    {
     "name": "stdout",
     "output_type": "stream",
     "text": [
      "Dimension of training feature dataset:  (15820, 3785)\n",
      "Dimension of training target dataset:  (15820,)\n",
      "Dimension of testing feature dataset:  (1758, 3785)\n",
      "Dimension of testing target dataset:  (1758,)\n"
     ]
    }
   ],
   "source": [
    "X_train = X_train_transformed\n",
    "X_test = X_test_transformed\n",
    "y_train = np.array(y_train)\n",
    "y_test = np.array(y_test)\n",
    "\n",
    "print('Dimension of training feature dataset: ', X_train.shape)\n",
    "print('Dimension of training target dataset: ', y_train.shape)\n",
    "print('Dimension of testing feature dataset: ', X_test.shape)\n",
    "print('Dimension of testing target dataset: ', y_test.shape)"
   ]
  },
  {
   "cell_type": "markdown",
   "metadata": {
    "collapsed": true
   },
   "source": [
    "# Create naives bayes model"
   ]
  },
  {
   "cell_type": "code",
   "execution_count": 6,
   "metadata": {},
   "outputs": [
    {
     "name": "stdout",
     "output_type": "stream",
     "text": [
      "Model:  MultinomialNB(alpha=1.0, class_prior=None, fit_prior=True)\n",
      "Accuracy:  0.982935153584\n",
      "Confusion matrix: \n",
      "[[883  10]\n",
      " [ 20 845]]\n"
     ]
    }
   ],
   "source": [
    "from sklearn.naive_bayes import MultinomialNB\n",
    "from sklearn.metrics import confusion_matrix, accuracy_score\n",
    "\n",
    "model = MultinomialNB()\n",
    "model.fit(X_train, y_train)\n",
    "print('Model: ', model)\n",
    "\n",
    "y_pred = model.predict(X_test)\n",
    "print('Accuracy: ', accuracy_score(y_test, y_pred))\n",
    "print('Confusion matrix: ')\n",
    "print(confusion_matrix(y_test, y_pred))"
   ]
  }
 ],
 "metadata": {
  "kernelspec": {
   "display_name": "Python 3",
   "language": "python",
   "name": "python3"
  },
  "language_info": {
   "codemirror_mode": {
    "name": "ipython",
    "version": 3
   },
   "file_extension": ".py",
   "mimetype": "text/x-python",
   "name": "python",
   "nbconvert_exporter": "python",
   "pygments_lexer": "ipython3",
   "version": "3.6.1"
  }
 },
 "nbformat": 4,
 "nbformat_minor": 1
}
